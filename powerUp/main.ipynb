{
 "cells": [
  {
   "cell_type": "code",
   "execution_count": null,
   "metadata": {},
   "outputs": [],
   "source": [
    "import pandas as pd\n",
    "\n",
    "tabela = pd.read_csv(\"produtos.csv\")\n",
    "print(tabela)"
   ]
  },
  {
   "cell_type": "code",
   "execution_count": null,
   "metadata": {},
   "outputs": [],
   "source": [
    "import pyautogui\n",
    "import time\n",
    "\n",
    "time.sleep(5)\n",
    "print(pyautogui.position())\n",
    "pyautogui.scroll(-200)"
   ]
  },
  {
   "cell_type": "code",
   "execution_count": null,
   "metadata": {},
   "outputs": [],
   "source": [
    "#pausa para cada comandao \n",
    "pyautogui.PAUSE = 0.5\n",
    "\n",
    "pyautogui.press(\"win\")\n",
    "pyautogui.write(\"edge\")\n",
    "pyautogui.press(\"enter\")\n",
    "pyautogui.write(\"https://dlp.hashtagtreinamentos.com/python/intensivao/login\")\n",
    "pyautogui.press('enter')\n",
    "\n",
    "time.sleep(5)"
   ]
  },
  {
   "cell_type": "code",
   "execution_count": null,
   "metadata": {},
   "outputs": [],
   "source": [
    "#fazer login\n",
    "pyautogui.click(x=1686, y=591)\n",
    "pyautogui.write(\"pythonimpressionador@gmail.com\")\n",
    "pyautogui.press(\"tab\")\n",
    "pyautogui.write(\"sua senha\")\n",
    "pyautogui.click(x=1902, y=838)"
   ]
  },
  {
   "cell_type": "code",
   "execution_count": null,
   "metadata": {},
   "outputs": [],
   "source": [
    "for linha in tabela.index:\n",
    "    pyautogui.click(x=1732, y=418)\n",
    "    pyautogui.write(str(tabela.loc[linha, \"codigo\"]))\n",
    "    pyautogui.press(\"tab\")\n",
    "    pyautogui.write(str(tabela.loc[linha, \"marca\"]))\n",
    "    pyautogui.press(\"tab\")\n",
    "    pyautogui.write(str(tabela.loc[linha, \"tipo\"]))\n",
    "    pyautogui.press(\"tab\")\n",
    "    pyautogui.write(str(tabela.loc[linha, \"categoria\"]))\n",
    "    pyautogui.press(\"tab\")\n",
    "    pyautogui.write(str(tabela.loc[linha, \"preco_unitario\"]))\n",
    "    pyautogui.press(\"tab\")\n",
    "    pyautogui.write(str(tabela.loc[linha, \"custo\"]))\n",
    "    pyautogui.press(\"tab\")\n",
    "    if not pd.isna(tabela.loc[linha, \"obs\"]):\n",
    "        pyautogui.write(str(tabela.loc[linha, \"obs\"]))\n",
    "    pyautogui.click(x=1808, y=1380)\n",
    "    pyautogui.scroll(5000)"
   ]
  }
 ],
 "metadata": {
  "kernelspec": {
   "display_name": "Python 3",
   "language": "python",
   "name": "python3"
  },
  "language_info": {
   "codemirror_mode": {
    "name": "ipython",
    "version": 3
   },
   "file_extension": ".py",
   "mimetype": "text/x-python",
   "name": "python",
   "nbconvert_exporter": "python",
   "pygments_lexer": "ipython3",
   "version": "3.11.4"
  },
  "orig_nbformat": 4
 },
 "nbformat": 4,
 "nbformat_minor": 2
}
